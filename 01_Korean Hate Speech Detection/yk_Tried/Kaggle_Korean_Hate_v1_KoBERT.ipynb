{
  "nbformat": 4,
  "nbformat_minor": 0,
  "metadata": {
    "colab": {
      "provenance": [],
      "gpuType": "A100"
    },
    "kernelspec": {
      "name": "python3",
      "display_name": "Python 3"
    },
    "language_info": {
      "name": "python"
    },
    "accelerator": "GPU"
  },
  "cells": [
    {
      "cell_type": "code",
      "execution_count": null,
      "metadata": {
        "id": "-ZQSAtebhA_F"
      },
      "outputs": [],
      "source": [
        "import pandas as pd\n",
        "from sklearn.model_selection import train_test_split\n",
        "import numpy as np\n",
        "\n",
        "# 학습, 검증, 테스트 데이터 로드\n",
        "train_df = pd.read_csv('train.hate.csv')  # 학습 데이터 로드\n",
        "dev_df = pd.read_csv('dev.hate.csv')      # 검증 데이터 로드\n",
        "test_df = pd.read_csv('test.hate.no_label.csv')    # 테스트 데이터 로드"
      ]
    },
    {
      "cell_type": "markdown",
      "source": [],
      "metadata": {
        "id": "PQrfu9P4cJEL"
      }
    },
    {
      "cell_type": "code",
      "source": [
        "# 각 라벨의 개수를 확인하여 데이터 분포를 파악\n",
        "print(\"Train 데이터 분포:\")\n",
        "print(train_df['label'].value_counts())  # 학습 데이터 분포 확인\n",
        "print(\"Dev 데이터 분포:\")\n",
        "print(dev_df['label'].value_counts())    # 검증 데이터 분포 확인"
      ],
      "metadata": {
        "colab": {
          "base_uri": "https://localhost:8080/"
        },
        "id": "mMJFU-KmkzGq",
        "outputId": "01768410-0b40-40c3-acea-35b92e765d08"
      },
      "execution_count": null,
      "outputs": [
        {
          "output_type": "stream",
          "name": "stdout",
          "text": [
            "Train 데이터 분포:\n",
            "label\n",
            "no           3486\n",
            "offensive    2499\n",
            "hate         1911\n",
            "Name: count, dtype: int64\n",
            "Dev 데이터 분포:\n",
            "label\n",
            "offensive    189\n",
            "no           160\n",
            "hate         122\n",
            "Name: count, dtype: int64\n"
          ]
        }
      ]
    },
    {
      "cell_type": "code",
      "source": [
        "print(\"라벨링 변환 전 라벨 확인:\")\n",
        "print(train_df['label'].unique())"
      ],
      "metadata": {
        "colab": {
          "base_uri": "https://localhost:8080/"
        },
        "id": "F8Sc2ZUzrUaJ",
        "outputId": "a706c8a3-1c39-402e-aec0-cefab92e0ac4"
      },
      "execution_count": null,
      "outputs": [
        {
          "output_type": "stream",
          "name": "stdout",
          "text": [
            "라벨링 변환 전 라벨 확인:\n",
            "[]\n"
          ]
        }
      ]
    },
    {
      "cell_type": "code",
      "source": [
        "print(\"comments 열 결측치 확인:\")\n",
        "print(train_df['comments'].isnull().sum())"
      ],
      "metadata": {
        "colab": {
          "base_uri": "https://localhost:8080/"
        },
        "id": "eUCFpoQQrVyA",
        "outputId": "9f32df35-2a84-42e5-a768-dedf3a756ad4"
      },
      "execution_count": null,
      "outputs": [
        {
          "output_type": "stream",
          "name": "stdout",
          "text": [
            "comments 열 결측치 확인:\n",
            "0\n"
          ]
        }
      ]
    },
    {
      "cell_type": "code",
      "source": [
        "# 라벨링 변환 (예: 'none' -> 0, 'offensive' -> 1, 'hate' -> 2)\n",
        "label_mapping = {'no': 0, 'offensive': 1, 'hate': 2}\n",
        "train_df['label'] = train_df['label'].map(label_mapping)\n",
        "dev_df['label'] = dev_df['label'].map(label_mapping)\n",
        "\n",
        "# 결측치 확인 및 제거\n",
        "train_df = train_df.dropna(subset=['label', 'comments'])\n",
        "dev_df = dev_df.dropna(subset=['label', 'comments'])\n",
        "\n",
        "# 라벨 변환 후 Null 값 제거\n",
        "train_df = train_df.dropna(subset=['label'])\n",
        "dev_df = dev_df.dropna(subset=['label'])\n",
        "\n",
        "# 빈 데이터셋이 아닌지 확인\n",
        "if train_df.empty:\n",
        "    raise ValueError(\"학습 데이터셋이 비어 있습니다. 데이터 파일의 내용을 확인하세요.\")\n",
        "if dev_df.empty:\n",
        "    raise ValueError(\"검증 데이터셋이 비어 있습니다. 데이터 파일의 내용을 확인하세요.\")\n",
        "\n",
        "# 데이터 분포 확인 (결측치 처리 후)\n",
        "print(\"Train 데이터 분포:\")\n",
        "print(train_df['label'].value_counts())\n",
        "print(\"\\nDev 데이터 분포:\")\n",
        "print(dev_df['label'].value_counts())"
      ],
      "metadata": {
        "colab": {
          "base_uri": "https://localhost:8080/"
        },
        "id": "ENSNyKcjoxYY",
        "outputId": "a8df29c0-b334-49a9-83e9-42fe9ddf6e64"
      },
      "execution_count": null,
      "outputs": [
        {
          "output_type": "stream",
          "name": "stdout",
          "text": [
            "Train 데이터 분포:\n",
            "label\n",
            "0    3486\n",
            "1    2499\n",
            "2    1911\n",
            "Name: count, dtype: int64\n",
            "\n",
            "Dev 데이터 분포:\n",
            "label\n",
            "1    189\n",
            "0    160\n",
            "2    122\n",
            "Name: count, dtype: int64\n"
          ]
        }
      ]
    },
    {
      "cell_type": "code",
      "source": [
        "!pip install kobert_transformers"
      ],
      "metadata": {
        "colab": {
          "base_uri": "https://localhost:8080/"
        },
        "id": "MvT2a6Vjo9DY",
        "outputId": "97a78b58-102f-4824-fae8-3737b4d81b06"
      },
      "execution_count": null,
      "outputs": [
        {
          "output_type": "stream",
          "name": "stdout",
          "text": [
            "Collecting kobert_transformers\n",
            "  Downloading kobert_transformers-0.6.0-py3-none-any.whl.metadata (7.3 kB)\n",
            "Requirement already satisfied: torch>=1.1.0 in /usr/local/lib/python3.10/dist-packages (from kobert_transformers) (2.5.0+cu121)\n",
            "Requirement already satisfied: transformers<5,>=3 in /usr/local/lib/python3.10/dist-packages (from kobert_transformers) (4.44.2)\n",
            "Requirement already satisfied: sentencepiece>=0.1.91 in /usr/local/lib/python3.10/dist-packages (from kobert_transformers) (0.2.0)\n",
            "Requirement already satisfied: filelock in /usr/local/lib/python3.10/dist-packages (from torch>=1.1.0->kobert_transformers) (3.16.1)\n",
            "Requirement already satisfied: typing-extensions>=4.8.0 in /usr/local/lib/python3.10/dist-packages (from torch>=1.1.0->kobert_transformers) (4.12.2)\n",
            "Requirement already satisfied: networkx in /usr/local/lib/python3.10/dist-packages (from torch>=1.1.0->kobert_transformers) (3.4.2)\n",
            "Requirement already satisfied: jinja2 in /usr/local/lib/python3.10/dist-packages (from torch>=1.1.0->kobert_transformers) (3.1.4)\n",
            "Requirement already satisfied: fsspec in /usr/local/lib/python3.10/dist-packages (from torch>=1.1.0->kobert_transformers) (2024.10.0)\n",
            "Requirement already satisfied: sympy==1.13.1 in /usr/local/lib/python3.10/dist-packages (from torch>=1.1.0->kobert_transformers) (1.13.1)\n",
            "Requirement already satisfied: mpmath<1.4,>=1.1.0 in /usr/local/lib/python3.10/dist-packages (from sympy==1.13.1->torch>=1.1.0->kobert_transformers) (1.3.0)\n",
            "Requirement already satisfied: huggingface-hub<1.0,>=0.23.2 in /usr/local/lib/python3.10/dist-packages (from transformers<5,>=3->kobert_transformers) (0.24.7)\n",
            "Requirement already satisfied: numpy>=1.17 in /usr/local/lib/python3.10/dist-packages (from transformers<5,>=3->kobert_transformers) (1.26.4)\n",
            "Requirement already satisfied: packaging>=20.0 in /usr/local/lib/python3.10/dist-packages (from transformers<5,>=3->kobert_transformers) (24.1)\n",
            "Requirement already satisfied: pyyaml>=5.1 in /usr/local/lib/python3.10/dist-packages (from transformers<5,>=3->kobert_transformers) (6.0.2)\n",
            "Requirement already satisfied: regex!=2019.12.17 in /usr/local/lib/python3.10/dist-packages (from transformers<5,>=3->kobert_transformers) (2024.9.11)\n",
            "Requirement already satisfied: requests in /usr/local/lib/python3.10/dist-packages (from transformers<5,>=3->kobert_transformers) (2.32.3)\n",
            "Requirement already satisfied: safetensors>=0.4.1 in /usr/local/lib/python3.10/dist-packages (from transformers<5,>=3->kobert_transformers) (0.4.5)\n",
            "Requirement already satisfied: tokenizers<0.20,>=0.19 in /usr/local/lib/python3.10/dist-packages (from transformers<5,>=3->kobert_transformers) (0.19.1)\n",
            "Requirement already satisfied: tqdm>=4.27 in /usr/local/lib/python3.10/dist-packages (from transformers<5,>=3->kobert_transformers) (4.66.6)\n",
            "Requirement already satisfied: MarkupSafe>=2.0 in /usr/local/lib/python3.10/dist-packages (from jinja2->torch>=1.1.0->kobert_transformers) (3.0.2)\n",
            "Requirement already satisfied: charset-normalizer<4,>=2 in /usr/local/lib/python3.10/dist-packages (from requests->transformers<5,>=3->kobert_transformers) (3.4.0)\n",
            "Requirement already satisfied: idna<4,>=2.5 in /usr/local/lib/python3.10/dist-packages (from requests->transformers<5,>=3->kobert_transformers) (3.10)\n",
            "Requirement already satisfied: urllib3<3,>=1.21.1 in /usr/local/lib/python3.10/dist-packages (from requests->transformers<5,>=3->kobert_transformers) (2.2.3)\n",
            "Requirement already satisfied: certifi>=2017.4.17 in /usr/local/lib/python3.10/dist-packages (from requests->transformers<5,>=3->kobert_transformers) (2024.8.30)\n",
            "Downloading kobert_transformers-0.6.0-py3-none-any.whl (12 kB)\n",
            "Installing collected packages: kobert_transformers\n",
            "Successfully installed kobert_transformers-0.6.0\n"
          ]
        }
      ]
    },
    {
      "cell_type": "code",
      "source": [
        "from transformers import BertForSequenceClassification, Trainer, TrainingArguments, BertTokenizer\n",
        "import torch\n",
        "\n",
        "# KoBERT 모델과 토크나이저 로드\n",
        "model = BertForSequenceClassification.from_pretrained(\"monologg/kobert\", num_labels=3)\n",
        "tokenizer = BertTokenizer.from_pretrained(\"monologg/kobert\")\n",
        "\n",
        "def encode_data(data):\n",
        "    # 텍스트가 비어있는 경우 처리\n",
        "    if data['comments'].isnull().any():\n",
        "        raise ValueError(\"'comments' 열에 비어 있는 값이 있습니다. 모든 값이 올바르게 채워져 있는지 확인하세요.\")\n",
        "\n",
        "    # 데이터 텍스트를 토큰화하여 입력 포맷으로 변환\n",
        "    encodings = tokenizer(\n",
        "        data['comments'].tolist(),\n",
        "        padding=True,\n",
        "        truncation=True,\n",
        "        return_tensors=\"pt\",\n",
        "        max_length=512  # max_length를 지정하여 모델 입력 길이 제한\n",
        "    )\n",
        "    return encodings\n",
        "\n",
        "# 학습 및 검증 데이터 토큰화\n",
        "try:\n",
        "    train_encodings = encode_data(train_df)\n",
        "    val_encodings = encode_data(dev_df)\n",
        "except ValueError as e:\n",
        "    print(e)\n",
        "\n",
        "# 라벨을 텐서로 변환\n",
        "train_labels = torch.tensor(train_df['label'].values)\n",
        "val_labels = torch.tensor(dev_df['label'].values)"
      ],
      "metadata": {
        "colab": {
          "base_uri": "https://localhost:8080/"
        },
        "id": "8D_eO__VlBlL",
        "outputId": "e38a3309-cd2f-4f4e-f316-3147b360ec6a"
      },
      "execution_count": null,
      "outputs": [
        {
          "output_type": "stream",
          "name": "stderr",
          "text": [
            "Some weights of BertForSequenceClassification were not initialized from the model checkpoint at monologg/kobert and are newly initialized: ['classifier.bias', 'classifier.weight']\n",
            "You should probably TRAIN this model on a down-stream task to be able to use it for predictions and inference.\n",
            "The tokenizer class you load from this checkpoint is not the same type as the class this function is called from. It may result in unexpected tokenization. \n",
            "The tokenizer class you load from this checkpoint is 'KoBertTokenizer'. \n",
            "The class this function is called from is 'BertTokenizer'.\n",
            "/usr/local/lib/python3.10/dist-packages/transformers/tokenization_utils_base.py:1601: FutureWarning: `clean_up_tokenization_spaces` was not set. It will be set to `True` by default. This behavior will be depracted in transformers v4.45, and will be then set to `False` by default. For more details check this issue: https://github.com/huggingface/transformers/issues/31884\n",
            "  warnings.warn(\n"
          ]
        }
      ]
    },
    {
      "cell_type": "code",
      "source": [
        "class CustomDataset(torch.utils.data.Dataset):\n",
        "    def __init__(self, encodings, labels):\n",
        "        self.encodings = encodings\n",
        "        self.labels = labels\n",
        "\n",
        "    def __getitem__(self, idx):\n",
        "        # 인덱스에 해당하는 아이템 반환\n",
        "        item = {key: val[idx] for key, val in self.encodings.items()}\n",
        "        item['labels'] = self.labels[idx]\n",
        "        return item\n",
        "\n",
        "    def __len__(self):\n",
        "        # 데이터셋 길이 반환\n",
        "        return len(self.labels)\n",
        "\n",
        "# 학습 및 검증 데이터셋 생성\n",
        "train_dataset = CustomDataset(train_encodings, train_labels)\n",
        "val_dataset = CustomDataset(val_encodings, val_labels)\n",
        "\n",
        "# 데이터셋이 비어 있는지 확인\n",
        "if len(train_dataset) == 0 or len(val_dataset) == 0:\n",
        "    raise ValueError(\"학습 또는 검증 데이터셋이 비어 있습니다. 데이터셋 생성 과정을 확인하세요.\")"
      ],
      "metadata": {
        "id": "-vPv1qbGoFFX"
      },
      "execution_count": null,
      "outputs": []
    },
    {
      "cell_type": "code",
      "source": [
        "# 학습 설정 정의\n",
        "training_args = TrainingArguments(\n",
        "    output_dir='./results',              # 모델 출력 경로\n",
        "    num_train_epochs=3,                  # 학습 에폭 수\n",
        "    per_device_train_batch_size=16,      # 학습 배치 크기\n",
        "    per_device_eval_batch_size=16,       # 평가 배치 크기\n",
        "    warmup_steps=500,                    # 워밍업 단계\n",
        "    eval_strategy=\"epoch\",             # 평가 주기 (업데이트된 파라미터명)\n",
        "    logging_dir='./logs',                # 로그 디렉토리\n",
        "    logging_steps=10,                     # 로그 출력 주기\n",
        "    report_to=\"none\"  # WandB 비활성화\n",
        ")\n",
        "\n",
        "# Trainer 객체 생성\n",
        "trainer = Trainer(\n",
        "    model=model,\n",
        "    args=training_args,\n",
        "    train_dataset=train_dataset,\n",
        "    eval_dataset=val_dataset\n",
        ")\n",
        "\n",
        "# 모델 학습\n",
        "trainer.train()"
      ],
      "metadata": {
        "colab": {
          "base_uri": "https://localhost:8080/",
          "height": 205
        },
        "id": "MWGjtwMuphyM",
        "outputId": "8740c620-58cb-430e-b063-f9b2b86879e3"
      },
      "execution_count": null,
      "outputs": [
        {
          "output_type": "display_data",
          "data": {
            "text/plain": [
              "<IPython.core.display.HTML object>"
            ],
            "text/html": [
              "\n",
              "    <div>\n",
              "      \n",
              "      <progress value='1482' max='1482' style='width:300px; height:20px; vertical-align: middle;'></progress>\n",
              "      [1482/1482 01:13, Epoch 3/3]\n",
              "    </div>\n",
              "    <table border=\"1\" class=\"dataframe\">\n",
              "  <thead>\n",
              " <tr style=\"text-align: left;\">\n",
              "      <th>Epoch</th>\n",
              "      <th>Training Loss</th>\n",
              "      <th>Validation Loss</th>\n",
              "    </tr>\n",
              "  </thead>\n",
              "  <tbody>\n",
              "    <tr>\n",
              "      <td>1</td>\n",
              "      <td>1.073500</td>\n",
              "      <td>1.151429</td>\n",
              "    </tr>\n",
              "    <tr>\n",
              "      <td>2</td>\n",
              "      <td>1.082200</td>\n",
              "      <td>1.096744</td>\n",
              "    </tr>\n",
              "    <tr>\n",
              "      <td>3</td>\n",
              "      <td>1.040800</td>\n",
              "      <td>1.108166</td>\n",
              "    </tr>\n",
              "  </tbody>\n",
              "</table><p>"
            ]
          },
          "metadata": {}
        },
        {
          "output_type": "execute_result",
          "data": {
            "text/plain": [
              "TrainOutput(global_step=1482, training_loss=1.0724452124272603, metrics={'train_runtime': 74.8176, 'train_samples_per_second': 316.61, 'train_steps_per_second': 19.808, 'total_flos': 620828442570672.0, 'train_loss': 1.0724452124272603, 'epoch': 3.0})"
            ]
          },
          "metadata": {},
          "execution_count": 43
        }
      ]
    },
    {
      "cell_type": "code",
      "source": [
        "from sklearn.metrics import classification_report, confusion_matrix\n",
        "\n",
        "# 예측 수행\n",
        "predictions = trainer.predict(val_dataset)\n",
        "y_preds = torch.argmax(torch.tensor(predictions.predictions), axis=1)\n",
        "y_true = dev_df['label']\n",
        "\n",
        "# 평가지표 출력\n",
        "print(classification_report(y_true, y_preds, target_names=['none', 'offensive', 'hate']))\n",
        "\n",
        "# 혼동행렬 출력\n",
        "print(\"Confusion Matrix:\")\n",
        "print(confusion_matrix(y_true, y_preds))"
      ],
      "metadata": {
        "colab": {
          "base_uri": "https://localhost:8080/",
          "height": 395
        },
        "id": "uXhpCr2BslD_",
        "outputId": "1377cd51-9595-4b77-bc1f-0b129d9035a5"
      },
      "execution_count": null,
      "outputs": [
        {
          "output_type": "display_data",
          "data": {
            "text/plain": [
              "<IPython.core.display.HTML object>"
            ],
            "text/html": []
          },
          "metadata": {}
        },
        {
          "output_type": "stream",
          "name": "stdout",
          "text": [
            "              precision    recall  f1-score   support\n",
            "\n",
            "        none       0.34      1.00      0.51       160\n",
            "   offensive       0.00      0.00      0.00       189\n",
            "        hate       0.00      0.00      0.00       122\n",
            "\n",
            "    accuracy                           0.34       471\n",
            "   macro avg       0.11      0.33      0.17       471\n",
            "weighted avg       0.12      0.34      0.17       471\n",
            "\n",
            "Confusion Matrix:\n",
            "[[160   0   0]\n",
            " [189   0   0]\n",
            " [122   0   0]]\n"
          ]
        },
        {
          "output_type": "stream",
          "name": "stderr",
          "text": [
            "/usr/local/lib/python3.10/dist-packages/sklearn/metrics/_classification.py:1531: UndefinedMetricWarning: Precision is ill-defined and being set to 0.0 in labels with no predicted samples. Use `zero_division` parameter to control this behavior.\n",
            "  _warn_prf(average, modifier, f\"{metric.capitalize()} is\", len(result))\n",
            "/usr/local/lib/python3.10/dist-packages/sklearn/metrics/_classification.py:1531: UndefinedMetricWarning: Precision is ill-defined and being set to 0.0 in labels with no predicted samples. Use `zero_division` parameter to control this behavior.\n",
            "  _warn_prf(average, modifier, f\"{metric.capitalize()} is\", len(result))\n",
            "/usr/local/lib/python3.10/dist-packages/sklearn/metrics/_classification.py:1531: UndefinedMetricWarning: Precision is ill-defined and being set to 0.0 in labels with no predicted samples. Use `zero_division` parameter to control this behavior.\n",
            "  _warn_prf(average, modifier, f\"{metric.capitalize()} is\", len(result))\n"
          ]
        }
      ]
    },
    {
      "cell_type": "code",
      "source": [
        "# 학습 및 검증 손실 기록 확인\n",
        "training_logs = trainer.state.log_history\n",
        "\n",
        "train_loss = [log['loss'] for log in training_logs if 'loss' in log]\n",
        "eval_loss = [log['eval_loss'] for log in training_logs if 'eval_loss' in log]\n",
        "\n",
        "# 손실 시각화를 통한 과적합 여부 판단\n",
        "import matplotlib.pyplot as plt\n",
        "\n",
        "plt.plot(train_loss, label='Training Loss')\n",
        "plt.plot(eval_loss, label='Validation Loss')\n",
        "plt.xlabel('Epochs')\n",
        "plt.ylabel('Loss')\n",
        "plt.legend()\n",
        "plt.title('Training and Validation Loss')\n",
        "plt.show()\n",
        "\n",
        "# 과적합 및 과소적합 판단 출력\n",
        "if train_loss[-1] < eval_loss[-1]:\n",
        "    print(\"모델이 과적합되었습니다. 검증 손실이 학습 손실보다 높습니다.\")\n",
        "elif train_loss[-1] > eval_loss[-1] and (train_loss[-1] - eval_loss[-1]) > 0.1:\n",
        "    print(\"모델이 과소적합일 가능성이 있습니다. 학습 손실이 검증 손실보다 상당히 높습니다.\")\n",
        "else:\n",
        "    print(\"모델이 적절히 학습되었습니다.\")"
      ],
      "metadata": {
        "colab": {
          "base_uri": "https://localhost:8080/",
          "height": 490
        },
        "id": "iki9EEkqsn-l",
        "outputId": "c8bd2ccd-a025-4191-8269-5071346cfeed"
      },
      "execution_count": null,
      "outputs": [
        {
          "output_type": "display_data",
          "data": {
            "text/plain": [
              "<Figure size 640x480 with 1 Axes>"
            ],
            "image/png": "[encoded data removed]"
          },
          "metadata": {}
        },
        {
          "output_type": "stream",
          "name": "stdout",
          "text": [
            "모델이 과적합되었습니다. 검증 손실이 학습 손실보다 높습니다.\n"
          ]
        }
      ]
    },
    {
      "cell_type": "code",
      "source": [
        "# 모델 및 토크나이저 저장\n",
        "model.save_pretrained('./saved_model_KoBERT_v1')\n",
        "tokenizer.save_pretrained('./saved_model_KoBERT_v1')"
      ],
      "metadata": {
        "colab": {
          "base_uri": "https://localhost:8080/"
        },
        "id": "WHQSxEcjsqNC",
        "outputId": "6fc8861c-17cd-4a97-e5d6-10b07dc8cd87"
      },
      "execution_count": null,
      "outputs": [
        {
          "output_type": "execute_result",
          "data": {
            "text/plain": [
              "('./saved_model_KoBERT_v1/tokenizer_config.json',\n",
              " './saved_model_KoBERT_v1/special_tokens_map.json',\n",
              " './saved_model_KoBERT_v1/vocab.txt',\n",
              " './saved_model_KoBERT_v1/added_tokens.json')"
            ]
          },
          "metadata": {},
          "execution_count": 47
        }
      ]
    },
    {
      "cell_type": "code",
      "source": [
        "from google.colab import files\n",
        "import shutil\n",
        "\n",
        "# 저장된 모델을 압축하여 다운로드 가능하도록 준비\n",
        "shutil.make_archive('saved_model_KoBERT_v1', 'zip', './saved_model_KoBERT_v1')\n",
        "\n",
        "# 파일 다운로드\n",
        "files.download('saved_model_KoBERT_v1.zip')"
      ],
      "metadata": {
        "colab": {
          "base_uri": "https://localhost:8080/",
          "height": 34
        },
        "id": "ptjfJ9hZt74T",
        "outputId": "15bc5aa1-a51d-4d4b-9c2e-9185da72c806"
      },
      "execution_count": null,
      "outputs": [
        {
          "output_type": "display_data",
          "data": {
            "text/plain": [
              "<IPython.core.display.Javascript object>"
            ],
            "application/javascript": [
              "\n",
              "    async function download(id, filename, size) {\n",
              "      if (!google.colab.kernel.accessAllowed) {\n",
              "        return;\n",
              "      }\n",
              "      const div = document.createElement('div');\n",
              "      const label = document.createElement('label');\n",
              "      label.textContent = `Downloading \"${filename}\": `;\n",
              "      div.appendChild(label);\n",
              "      const progress = document.createElement('progress');\n",
              "      progress.max = size;\n",
              "      div.appendChild(progress);\n",
              "      document.body.appendChild(div);\n",
              "\n",
              "      const buffers = [];\n",
              "      let downloaded = 0;\n",
              "\n",
              "      const channel = await google.colab.kernel.comms.open(id);\n",
              "      // Send a message to notify the kernel that we're ready.\n",
              "      channel.send({})\n",
              "\n",
              "      for await (const message of channel.messages) {\n",
              "        // Send a message to notify the kernel that we're ready.\n",
              "        channel.send({})\n",
              "        if (message.buffers) {\n",
              "          for (const buffer of message.buffers) {\n",
              "            buffers.push(buffer);\n",
              "            downloaded += buffer.byteLength;\n",
              "            progress.value = downloaded;\n",
              "          }\n",
              "        }\n",
              "      }\n",
              "      const blob = new Blob(buffers, {type: 'application/binary'});\n",
              "      const a = document.createElement('a');\n",
              "      a.href = window.URL.createObjectURL(blob);\n",
              "      a.download = filename;\n",
              "      div.appendChild(a);\n",
              "      a.click();\n",
              "      div.remove();\n",
              "    }\n",
              "  "
            ]
          },
          "metadata": {}
        },
        {
          "output_type": "display_data",
          "data": {
            "text/plain": [
              "<IPython.core.display.Javascript object>"
            ],
            "application/javascript": [
              "download(\"download_dbc054ef-e44f-4a41-974b-ddfcb19e2fdc\", \"saved_model_KoBERT_v1.zip\", 342092129)"
            ]
          },
          "metadata": {}
        }
      ]
    },
    {
      "cell_type": "code",
      "source": [],
      "metadata": {
        "id": "jvNMmFqEtblu"
      },
      "execution_count": null,
      "outputs": []
    }
  ]
}