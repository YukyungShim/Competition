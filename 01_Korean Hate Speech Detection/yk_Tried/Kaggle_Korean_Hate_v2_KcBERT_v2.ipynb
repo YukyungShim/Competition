{
  "nbformat": 4,
  "nbformat_minor": 0,
  "metadata": {
    "colab": {
      "provenance": [],
      "gpuType": "A100"
    },
    "kernelspec": {
      "name": "python3",
      "display_name": "Python 3"
    },
    "language_info": {
      "name": "python"
    },
    "accelerator": "GPU"
  },
  "cells": [
    {
      "cell_type": "code",
      "execution_count": null,
      "metadata": {
        "id": "6Z-CvZMbiaRB"
      },
      "outputs": [],
      "source": [
        "import pandas as pd\n",
        "from sklearn.model_selection import train_test_split\n",
        "import numpy as np\n",
        "\n",
        "# 학습, 검증, 테스트 데이터 로드\n",
        "train_df = pd.read_csv('train.hate.csv')  # 학습 데이터 로드\n",
        "dev_df = pd.read_csv('dev.hate.csv')      # 검증 데이터 로드\n",
        "test_df = pd.read_csv('test.hate.no_label.csv')    # 테스트 데이터 로드"
      ]
    },
    {
      "cell_type": "code",
      "source": [
        "# 각 라벨의 개수를 확인하여 데이터 분포를 파악\n",
        "print(\"Train 데이터 분포:\")\n",
        "print(train_df['label'].value_counts())  # 학습 데이터 분포 확인\n",
        "print(\"Dev 데이터 분포:\")\n",
        "print(dev_df['label'].value_counts())    # 검증 데이터 분포 확인"
      ],
      "metadata": {
        "colab": {
          "base_uri": "https://localhost:8080/"
        },
        "id": "JXFqsJO3iuTv",
        "outputId": "325b6468-4224-43c4-d43f-36d1927c1cee"
      },
      "execution_count": null,
      "outputs": [
        {
          "output_type": "stream",
          "name": "stdout",
          "text": [
            "Train 데이터 분포:\n",
            "label\n",
            "no           3486\n",
            "offensive    2499\n",
            "hate         1911\n",
            "Name: count, dtype: int64\n",
            "Dev 데이터 분포:\n",
            "label\n",
            "offensive    189\n",
            "no           160\n",
            "hate         122\n",
            "Name: count, dtype: int64\n"
          ]
        }
      ]
    },
    {
      "cell_type": "code",
      "source": [
        "# 라벨링 변환 (예: 'none' -> 0, 'offensive' -> 1, 'hate' -> 2)\n",
        "label_mapping = {'no': 0, 'offensive': 1, 'hate': 2}\n",
        "train_df['label'] = train_df['label'].map(label_mapping)\n",
        "dev_df['label'] = dev_df['label'].map(label_mapping)\n",
        "\n",
        "# 결측치 확인 및 제거\n",
        "train_df = train_df.dropna(subset=['label', 'comments'])\n",
        "dev_df = dev_df.dropna(subset=['label', 'comments'])\n",
        "\n",
        "# 라벨 변환 후 Null 값 제거\n",
        "train_df = train_df.dropna(subset=['label'])\n",
        "dev_df = dev_df.dropna(subset=['label'])\n",
        "\n",
        "# 빈 데이터셋이 아닌지 확인\n",
        "if train_df.empty:\n",
        "    raise ValueError(\"학습 데이터셋이 비어 있습니다. 데이터 파일의 내용을 확인하세요.\")\n",
        "if dev_df.empty:\n",
        "    raise ValueError(\"검증 데이터셋이 비어 있습니다. 데이터 파일의 내용을 확인하세요.\")\n",
        "\n",
        "# 데이터 분포 확인 (결측치 처리 후)\n",
        "print(\"Train 데이터 분포:\")\n",
        "print(train_df['label'].value_counts())\n",
        "print(\"\\nDev 데이터 분포:\")\n",
        "print(dev_df['label'].value_counts())"
      ],
      "metadata": {
        "colab": {
          "base_uri": "https://localhost:8080/"
        },
        "id": "HvoXrFAWizT0",
        "outputId": "2c9458a1-69d9-4605-ac0b-0cecf136052d"
      },
      "execution_count": null,
      "outputs": [
        {
          "output_type": "stream",
          "name": "stdout",
          "text": [
            "Train 데이터 분포:\n",
            "label\n",
            "0    3486\n",
            "1    2499\n",
            "2    1911\n",
            "Name: count, dtype: int64\n",
            "\n",
            "Dev 데이터 분포:\n",
            "label\n",
            "1    189\n",
            "0    160\n",
            "2    122\n",
            "Name: count, dtype: int64\n"
          ]
        }
      ]
    },
    {
      "cell_type": "code",
      "source": [
        "from transformers import BertForSequenceClassification, AutoTokenizer, Trainer, TrainingArguments\n",
        "import torch\n",
        "\n",
        "# KcBERT 모델과 토크나이저 로드\n",
        "model = BertForSequenceClassification.from_pretrained(\"beomi/kcbert-base\", num_labels=3)\n",
        "tokenizer = AutoTokenizer.from_pretrained(\"beomi/kcbert-base\")\n",
        "\n",
        "def encode_data(data):\n",
        "    # 텍스트 토큰화 및 변환\n",
        "    encodings = tokenizer(\n",
        "        data['comments'].tolist(),\n",
        "        padding=True,\n",
        "        truncation=True,\n",
        "        return_tensors=\"pt\",\n",
        "        max_length=512  # max_length를 지정하여 입력 길이 제한\n",
        "    )\n",
        "    return encodings\n",
        "\n",
        "# 학습 및 검증 데이터 토큰화\n",
        "train_encodings = encode_data(train_df)\n",
        "val_encodings = encode_data(dev_df)\n",
        "\n",
        "# 라벨을 텐서로 변환\n",
        "train_labels = torch.tensor(train_df['label'].values)\n",
        "val_labels = torch.tensor(dev_df['label'].values)"
      ],
      "metadata": {
        "colab": {
          "base_uri": "https://localhost:8080/"
        },
        "id": "Rwym0xsQi0CQ",
        "outputId": "95ad6efd-76cb-4b2a-8004-8ac80bf15292"
      },
      "execution_count": null,
      "outputs": [
        {
          "output_type": "stream",
          "name": "stderr",
          "text": [
            "Some weights of BertForSequenceClassification were not initialized from the model checkpoint at beomi/kcbert-base and are newly initialized: ['classifier.bias', 'classifier.weight']\n",
            "You should probably TRAIN this model on a down-stream task to be able to use it for predictions and inference.\n",
            "/usr/local/lib/python3.10/dist-packages/transformers/tokenization_utils_base.py:1601: FutureWarning: `clean_up_tokenization_spaces` was not set. It will be set to `True` by default. This behavior will be depracted in transformers v4.45, and will be then set to `False` by default. For more details check this issue: https://github.com/huggingface/transformers/issues/31884\n",
            "  warnings.warn(\n"
          ]
        }
      ]
    },
    {
      "cell_type": "code",
      "source": [
        "class CustomDataset(torch.utils.data.Dataset):\n",
        "    def __init__(self, encodings, labels=None):\n",
        "        self.encodings = encodings\n",
        "        self.labels = labels\n",
        "\n",
        "    def __getitem__(self, idx):\n",
        "        item = {key: val[idx] for key, val in self.encodings.items()}\n",
        "        if self.labels is not None:\n",
        "            item['labels'] = self.labels[idx]\n",
        "        return item\n",
        "\n",
        "    def __len__(self):\n",
        "        return len(self.encodings['input_ids'])\n",
        "\n",
        "# 데이터셋 생성\n",
        "train_dataset = CustomDataset(train_encodings, train_labels)\n",
        "val_dataset = CustomDataset(val_encodings, val_labels)"
      ],
      "metadata": {
        "id": "Cmt4X8uajXK3"
      },
      "execution_count": null,
      "outputs": []
    },
    {
      "cell_type": "code",
      "source": [
        "# 학습 설정 정의\n",
        "training_args = TrainingArguments(\n",
        "    output_dir='./results',              # 모델 출력 경로\n",
        "    num_train_epochs=3,                  # 학습 에폭 수\n",
        "    per_device_train_batch_size=16,      # 학습 배치 크기\n",
        "    per_device_eval_batch_size=16,       # 평가 배치 크기\n",
        "    warmup_steps=500,                    # 워밍업 단계\n",
        "    eval_strategy=\"epoch\",             # 평가 주기\n",
        "    logging_dir='./logs',                # 로그 디렉토리\n",
        "    logging_steps=10,                     # 로그 출력 주기\n",
        "    report_to=\"none\"  # WandB 비활성화\n",
        ")\n",
        "\n",
        "# Trainer 객체 생성\n",
        "trainer = Trainer(\n",
        "    model=model,\n",
        "    args=training_args,\n",
        "    train_dataset=train_dataset,\n",
        "    eval_dataset=val_dataset\n",
        ")\n",
        "\n",
        "# 모델 학습\n",
        "trainer.train()"
      ],
      "metadata": {
        "colab": {
          "base_uri": "https://localhost:8080/",
          "height": 205
        },
        "id": "3UqE5-afjbhc",
        "outputId": "c8f15713-5e41-4309-f130-713ad749b8e5"
      },
      "execution_count": null,
      "outputs": [
        {
          "output_type": "display_data",
          "data": {
            "text/plain": [
              "<IPython.core.display.HTML object>"
            ],
            "text/html": [
              "\n",
              "    <div>\n",
              "      \n",
              "      <progress value='1482' max='1482' style='width:300px; height:20px; vertical-align: middle;'></progress>\n",
              "      [1482/1482 01:39, Epoch 3/3]\n",
              "    </div>\n",
              "    <table border=\"1\" class=\"dataframe\">\n",
              "  <thead>\n",
              " <tr style=\"text-align: left;\">\n",
              "      <th>Epoch</th>\n",
              "      <th>Training Loss</th>\n",
              "      <th>Validation Loss</th>\n",
              "    </tr>\n",
              "  </thead>\n",
              "  <tbody>\n",
              "    <tr>\n",
              "      <td>1</td>\n",
              "      <td>0.793300</td>\n",
              "      <td>0.893959</td>\n",
              "    </tr>\n",
              "    <tr>\n",
              "      <td>2</td>\n",
              "      <td>0.519300</td>\n",
              "      <td>0.792731</td>\n",
              "    </tr>\n",
              "    <tr>\n",
              "      <td>3</td>\n",
              "      <td>0.235200</td>\n",
              "      <td>1.136704</td>\n",
              "    </tr>\n",
              "  </tbody>\n",
              "</table><p>"
            ]
          },
          "metadata": {}
        },
        {
          "output_type": "execute_result",
          "data": {
            "text/plain": [
              "TrainOutput(global_step=1482, training_loss=0.5840743075096012, metrics={'train_runtime': 100.0186, 'train_samples_per_second': 236.836, 'train_steps_per_second': 14.817, 'total_flos': 900809897063328.0, 'train_loss': 0.5840743075096012, 'epoch': 3.0})"
            ]
          },
          "metadata": {},
          "execution_count": 20
        }
      ]
    },
    {
      "cell_type": "code",
      "source": [
        "from sklearn.metrics import classification_report, confusion_matrix\n",
        "\n",
        "# 예측 수행\n",
        "predictions = trainer.predict(val_dataset)\n",
        "y_preds = torch.argmax(torch.tensor(predictions.predictions), axis=1)\n",
        "y_true = dev_df['label']\n",
        "\n",
        "# 평가지표 출력\n",
        "print(classification_report(y_true, y_preds, target_names=['no', 'offensive', 'hate']))\n",
        "\n",
        "# 혼동행렬 출력\n",
        "print(\"Confusion Matrix:\")\n",
        "print(confusion_matrix(y_true, y_preds))\n",
        "\n",
        "# 테스트 데이터 예측\n",
        "test_encodings = encode_data(test_df)\n",
        "test_dataset = CustomDataset(test_encodings)\n",
        "test_predictions = trainer.predict(test_dataset)\n",
        "test_preds = torch.argmax(torch.tensor(test_predictions.predictions), axis=1)\n",
        "\n",
        "# 예측 결과를 데이터프레임에 저장\n",
        "output_df = test_df.copy()\n",
        "output_df['label'] = test_preds.numpy()\n",
        "\n",
        "# CSV 파일로 저장\n",
        "output_df.to_csv('test.hate.predicted_KcBERT_v2.csv', index=False)\n",
        "print(\"테스트 데이터의 예측 결과가 test.hate.predicted.csv 파일에 저장되었습니다.\")"
      ],
      "metadata": {
        "colab": {
          "base_uri": "https://localhost:8080/",
          "height": 286
        },
        "id": "Yd4yUuUcjgya",
        "outputId": "b81bbb81-6734-4a30-94b9-ca05f453d02f"
      },
      "execution_count": null,
      "outputs": [
        {
          "output_type": "display_data",
          "data": {
            "text/plain": [
              "<IPython.core.display.HTML object>"
            ],
            "text/html": []
          },
          "metadata": {}
        },
        {
          "output_type": "stream",
          "name": "stdout",
          "text": [
            "              precision    recall  f1-score   support\n",
            "\n",
            "          no       0.66      0.88      0.76       160\n",
            "   offensive       0.62      0.54      0.58       189\n",
            "        hate       0.78      0.60      0.68       122\n",
            "\n",
            "    accuracy                           0.67       471\n",
            "   macro avg       0.69      0.67      0.67       471\n",
            "weighted avg       0.68      0.67      0.66       471\n",
            "\n",
            "Confusion Matrix:\n",
            "[[141  18   1]\n",
            " [ 67 102  20]\n",
            " [  5  44  73]]\n"
          ]
        },
        {
          "output_type": "display_data",
          "data": {
            "text/plain": [
              "<IPython.core.display.HTML object>"
            ],
            "text/html": []
          },
          "metadata": {}
        },
        {
          "output_type": "stream",
          "name": "stdout",
          "text": [
            "테스트 데이터의 예측 결과가 test.hate.predicted.csv 파일에 저장되었습니다.\n"
          ]
        }
      ]
    },
    {
      "cell_type": "code",
      "source": [],
      "metadata": {
        "id": "fGBvqYjirQmx"
      },
      "execution_count": null,
      "outputs": []
    },
    {
      "cell_type": "code",
      "source": [
        "# 학습 및 검증 손실 기록 확인\n",
        "training_logs = trainer.state.log_history\n",
        "\n",
        "train_loss = [log['loss'] for log in training_logs if 'loss' in log]\n",
        "eval_loss = [log['eval_loss'] for log in training_logs if 'eval_loss' in log]\n",
        "\n",
        "# 손실 시각화를 통한 과적합 여부 판단\n",
        "import matplotlib.pyplot as plt\n",
        "\n",
        "plt.plot(train_loss, label='Training Loss')\n",
        "plt.plot(eval_loss, label='Validation Loss')\n",
        "plt.xlabel('Epochs')\n",
        "plt.ylabel('Loss')\n",
        "plt.legend()\n",
        "plt.title('Training and Validation Loss')\n",
        "plt.show()\n",
        "\n",
        "# 과적합 및 과소적합 판단 출력\n",
        "if train_loss[-1] < eval_loss[-1]:\n",
        "    print(\"모델이 과적합되었습니다. 검증 손실이 학습 손실보다 높습니다.\")\n",
        "elif train_loss[-1] > eval_loss[-1] and (train_loss[-1] - eval_loss[-1]) > 0.1:\n",
        "    print(\"모델이 과소적합일 가능성이 있습니다. 학습 손실이 검증 손실보다 상당히 높습니다.\")\n",
        "else:\n",
        "    print(\"모델이 적절히 학습되었습니다.\")"
      ],
      "metadata": {
        "colab": {
          "base_uri": "https://localhost:8080/",
          "height": 490
        },
        "id": "BRGJyKqWjg1a",
        "outputId": "cb09f75f-695a-41f4-ef7b-0b4c8dbf9203"
      },
      "execution_count": null,
      "outputs": [
        {
          "output_type": "display_data",
          "data": {
            "text/plain": [
              "<Figure size 640x480 with 1 Axes>"
            ],
            "image/png": "[encoded data removed]"
          },
          "metadata": {}
        },
        {
          "output_type": "stream",
          "name": "stdout",
          "text": [
            "모델이 과적합되었습니다. 검증 손실이 학습 손실보다 높습니다.\n"
          ]
        }
      ]
    },
    {
      "cell_type": "code",
      "source": [
        "# 모델 및 토크나이저 저장\n",
        "model.save_pretrained('./saved_model_KcBERT_v1')\n",
        "tokenizer.save_pretrained('./saved_model_KcBERT_v1')"
      ],
      "metadata": {
        "colab": {
          "base_uri": "https://localhost:8080/"
        },
        "id": "gvFUwVW-jg7S",
        "outputId": "d8ebbbdf-a018-4c0f-94a9-7fc88f7d6443"
      },
      "execution_count": null,
      "outputs": [
        {
          "output_type": "execute_result",
          "data": {
            "text/plain": [
              "('./saved_model_KcBERT_v1/tokenizer_config.json',\n",
              " './saved_model_KcBERT_v1/special_tokens_map.json',\n",
              " './saved_model_KcBERT_v1/vocab.txt',\n",
              " './saved_model_KcBERT_v1/added_tokens.json')"
            ]
          },
          "metadata": {},
          "execution_count": 12
        }
      ]
    },
    {
      "cell_type": "code",
      "source": [
        "from google.colab import files\n",
        "import shutil\n",
        "\n",
        "# 저장된 모델을 압축하여 다운로드 가능하도록 준비\n",
        "shutil.make_archive('saved_model_KcBERT_v1', 'zip', './saved_model_KcBERT_v1')\n",
        "\n",
        "# 파일 다운로드\n",
        "files.download('saved_model_KcBERT_v1.zip')"
      ],
      "metadata": {
        "colab": {
          "base_uri": "https://localhost:8080/",
          "height": 17
        },
        "id": "pHxKVNzrjg9-",
        "outputId": "35033be2-16c7-4d15-920b-af021d940885"
      },
      "execution_count": null,
      "outputs": [
        {
          "output_type": "display_data",
          "data": {
            "text/plain": [
              "<IPython.core.display.Javascript object>"
            ],
            "application/javascript": [
              "\n",
              "    async function download(id, filename, size) {\n",
              "      if (!google.colab.kernel.accessAllowed) {\n",
              "        return;\n",
              "      }\n",
              "      const div = document.createElement('div');\n",
              "      const label = document.createElement('label');\n",
              "      label.textContent = `Downloading \"${filename}\": `;\n",
              "      div.appendChild(label);\n",
              "      const progress = document.createElement('progress');\n",
              "      progress.max = size;\n",
              "      div.appendChild(progress);\n",
              "      document.body.appendChild(div);\n",
              "\n",
              "      const buffers = [];\n",
              "      let downloaded = 0;\n",
              "\n",
              "      const channel = await google.colab.kernel.comms.open(id);\n",
              "      // Send a message to notify the kernel that we're ready.\n",
              "      channel.send({})\n",
              "\n",
              "      for await (const message of channel.messages) {\n",
              "        // Send a message to notify the kernel that we're ready.\n",
              "        channel.send({})\n",
              "        if (message.buffers) {\n",
              "          for (const buffer of message.buffers) {\n",
              "            buffers.push(buffer);\n",
              "            downloaded += buffer.byteLength;\n",
              "            progress.value = downloaded;\n",
              "          }\n",
              "        }\n",
              "      }\n",
              "      const blob = new Blob(buffers, {type: 'application/binary'});\n",
              "      const a = document.createElement('a');\n",
              "      a.href = window.URL.createObjectURL(blob);\n",
              "      a.download = filename;\n",
              "      div.appendChild(a);\n",
              "      a.click();\n",
              "      div.remove();\n",
              "    }\n",
              "  "
            ]
          },
          "metadata": {}
        },
        {
          "output_type": "display_data",
          "data": {
            "text/plain": [
              "<IPython.core.display.Javascript object>"
            ],
            "application/javascript": [
              "download(\"download_b3584621-0091-4c2e-9787-f3448a0d7ca6\", \"saved_model_KcBERT_v1.zip\", 404744507)"
            ]
          },
          "metadata": {}
        }
      ]
    },
    {
      "cell_type": "code",
      "source": [],
      "metadata": {
        "id": "_10Bc4FLlELs"
      },
      "execution_count": null,
      "outputs": []
    }
  ]
}