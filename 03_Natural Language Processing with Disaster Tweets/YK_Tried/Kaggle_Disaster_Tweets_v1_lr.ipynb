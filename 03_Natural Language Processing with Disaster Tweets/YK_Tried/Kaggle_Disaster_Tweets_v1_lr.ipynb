{
  "nbformat": 4,
  "nbformat_minor": 0,
  "metadata": {
    "colab": {
      "provenance": [],
      "gpuType": "A100"
    },
    "kernelspec": {
      "name": "python3",
      "display_name": "Python 3"
    },
    "language_info": {
      "name": "python"
    },
    "accelerator": "GPU"
  },
  "cells": [
    {
      "cell_type": "code",
      "execution_count": 1,
      "metadata": {
        "colab": {
          "base_uri": "https://localhost:8080/"
        },
        "id": "-T7VeDk71lTo",
        "outputId": "d0fa61e4-1073-4f95-bf43-6270ea5aa3ff"
      },
      "outputs": [
        {
          "output_type": "stream",
          "name": "stderr",
          "text": [
            "[nltk_data] Downloading package stopwords to /root/nltk_data...\n",
            "[nltk_data]   Unzipping corpora/stopwords.zip.\n"
          ]
        },
        {
          "output_type": "stream",
          "name": "stdout",
          "text": [
            "   id keyword location                                               text  \\\n",
            "0   1     NaN      NaN  Our Deeds are the Reason of this #earthquake M...   \n",
            "1   4     NaN      NaN             Forest fire near La Ronge Sask. Canada   \n",
            "2   5     NaN      NaN  All residents asked to 'shelter in place' are ...   \n",
            "3   6     NaN      NaN  13,000 people receive #wildfires evacuation or...   \n",
            "4   7     NaN      NaN  Just got sent this photo from Ruby #Alaska as ...   \n",
            "\n",
            "   target  \n",
            "0       1  \n",
            "1       1  \n",
            "2       1  \n",
            "3       1  \n",
            "4       1  \n",
            "Validation F1 Score: 0.7406\n",
            "              precision    recall  f1-score   support\n",
            "\n",
            "           0       0.79      0.88      0.83       874\n",
            "           1       0.81      0.68      0.74       649\n",
            "\n",
            "    accuracy                           0.80      1523\n",
            "   macro avg       0.80      0.78      0.79      1523\n",
            "weighted avg       0.80      0.80      0.79      1523\n",
            "\n",
            "Submission file saved as 'submission.csv'\n"
          ]
        }
      ],
      "source": [
        "# 필요한 라이브러리 불러오기\n",
        "import pandas as pd\n",
        "import numpy as np\n",
        "from sklearn.model_selection import train_test_split\n",
        "from sklearn.feature_extraction.text import TfidfVectorizer\n",
        "from sklearn.linear_model import LogisticRegression\n",
        "from sklearn.metrics import f1_score, classification_report\n",
        "import re\n",
        "import nltk\n",
        "from nltk.corpus import stopwords\n",
        "from nltk.stem import PorterStemmer\n",
        "\n",
        "# NLTK 데이터 다운로드\n",
        "nltk.download('stopwords')\n",
        "\n",
        "# 데이터 불러오기\n",
        "train_data = pd.read_csv('train.csv')\n",
        "test_data = pd.read_csv('test.csv')\n",
        "\n",
        "# 데이터 확인\n",
        "print(train_data.head())\n",
        "\n",
        "# 데이터 전처리 함수 정의\n",
        "def preprocess_text(text):\n",
        "    # 소문자로 변환\n",
        "    text = text.lower()\n",
        "    # 특수문자 제거\n",
        "    text = re.sub(r'[^a-zA-Z0-9\\s]', '', text)\n",
        "    # 토큰화 및 불용어 제거\n",
        "    stop_words = set(stopwords.words('english'))\n",
        "    tokens = text.split()\n",
        "    tokens = [word for word in tokens if word not in stop_words]\n",
        "    # 스테밍\n",
        "    stemmer = PorterStemmer()\n",
        "    tokens = [stemmer.stem(word) for word in tokens]\n",
        "    return ' '.join(tokens)\n",
        "\n",
        "# 텍스트 데이터 전처리\n",
        "train_data['text'] = train_data['text'].apply(preprocess_text)\n",
        "test_data['text'] = test_data['text'].apply(preprocess_text)\n",
        "\n",
        "# TF-IDF 벡터화\n",
        "tfidf = TfidfVectorizer(max_features=5000)\n",
        "X = tfidf.fit_transform(train_data['text']).toarray()\n",
        "y = train_data['target']\n",
        "\n",
        "# 테스트 데이터 처리\n",
        "X_test = tfidf.transform(test_data['text']).toarray()\n",
        "\n",
        "# 데이터 분할 (훈련/검증)\n",
        "X_train, X_val, y_train, y_val = train_test_split(X, y, test_size=0.2, random_state=42)\n",
        "\n",
        "# 모델 정의 및 학습\n",
        "model = LogisticRegression(max_iter=1000, random_state=42)\n",
        "model.fit(X_train, y_train)\n",
        "\n",
        "# 검증 데이터로 예측\n",
        "y_pred = model.predict(X_val)\n",
        "\n",
        "# F1 스코어 평가\n",
        "f1 = f1_score(y_val, y_pred)\n",
        "print(f'Validation F1 Score: {f1:.4f}')\n",
        "print(classification_report(y_val, y_pred))\n",
        "\n",
        "# 테스트 데이터 예측 및 제출 파일 생성\n",
        "test_data['target'] = model.predict(X_test)\n",
        "submission = test_data[['id', 'target']]\n",
        "submission.to_csv('submission_v1_lr.csv', index=False)\n",
        "print(\"Submission file saved as 'submission.csv'\")\n"
      ]
    },
    {
      "cell_type": "code",
      "source": [],
      "metadata": {
        "id": "9p9P_zQC1-kG"
      },
      "execution_count": null,
      "outputs": []
    }
  ]
}